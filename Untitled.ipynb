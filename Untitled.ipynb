{
 "cells": [
  {
   "cell_type": "code",
   "execution_count": 1,
   "metadata": {
    "collapsed": false
   },
   "outputs": [],
   "source": [
    "import os\n",
    "from bs4 import BeautifulSoup\n",
    "os.chdir(\"/home/patrick/Desktop/freelance/\")"
   ]
  },
  {
   "cell_type": "code",
   "execution_count": 2,
   "metadata": {
    "collapsed": false
   },
   "outputs": [],
   "source": [
    "from getSite import website_a_scrap"
   ]
  },
  {
   "cell_type": "code",
   "execution_count": null,
   "metadata": {
    "collapsed": false
   },
   "outputs": [
    {
     "name": "stdout",
     "output_type": "stream",
     "text": [
      "https://www.sec.gov/cgi-bin/browse-edgar?action=getcompany&CIK=IBM&type=&dateb=&owner=exclude&start=0&count=100\n",
      "Pages downloaded: 1\n",
      "Proxy is slow trying another one ...\n",
      "Proxy is slow trying another one ...\n",
      "Proxy is slow trying another one ...\n",
      "Proxy is slow trying another one ...\n",
      "Proxy is slow trying another one ...\n",
      "Proxy is slow trying another one ...\n",
      "Proxy is slow trying another one ...\n",
      "Proxy is slow trying another one ...\n",
      "Proxy is slow trying another one ...\n",
      "Proxy is slow trying another one ...\n",
      "Proxy is slow trying another one ...\n",
      "Proxy is slow trying another one ...\n",
      "Proxy is slow trying another one ...\n",
      "Proxy is slow trying another one ...\n",
      "worked\n",
      "https://www.sec.gov/Archives/edgar/data/51143/000110465918072287/0001104659-18-072287-index.htm\n",
      "Pages downloaded: 2\n"
     ]
    },
    {
     "name": "stderr",
     "output_type": "stream",
     "text": [
      "/home/patrick/Desktop/freelance/getSite.py:174: UserWarning: No parser was explicitly specified, so I'm using the best available HTML parser for this system (\"lxml\"). This usually isn't a problem, but if you run this code on another system, or in a different virtual environment, it may use a different parser and behave differently.\n",
      "\n",
      "The code that caused this warning is on line 174 of the file /home/patrick/Desktop/freelance/getSite.py. To get rid of this warning, pass the additional argument 'features=\"lxml\"' to the BeautifulSoup constructor.\n",
      "\n",
      "  soup = BeautifulSoup(html)\n"
     ]
    },
    {
     "name": "stdout",
     "output_type": "stream",
     "text": [
      "Proxy is slow trying another one ...\n",
      "worked\n",
      "https://www.sec.gov/Archives/edgar/data/51143/000110465918072287/a18-41255_28k.htm\n",
      "Pages downloaded: 3\n",
      "Proxy is slow trying another one ...\n",
      "worked\n",
      "https://www.sec.gov/Archives/edgar/data/51143/000110465918072287/a18-41255_2ex99d1.htm\n",
      "Pages downloaded: 4\n",
      "Proxy is slow trying another one ...\n",
      "Proxy is slow trying another one ...\n",
      "Proxy is slow trying another one ...\n",
      "Proxy is slow trying another one ...\n",
      "Proxy is slow trying another one ...\n",
      "Proxy is slow trying another one ...\n",
      "Proxy is slow trying another one ...\n",
      "Proxy is slow trying another one ...\n",
      "worked\n",
      "https://www.sec.gov/Archives/edgar/data/51143/000110465918072287/0001104659-18-072287.txt\n",
      "Pages downloaded: 5\n",
      "Proxy is slow trying another one ...\n",
      "Proxy is slow trying another one ...\n",
      "Proxy is slow trying another one ...\n",
      "Proxy is slow trying another one ...\n",
      "Proxy is slow trying another one ...\n",
      "Proxy is slow trying another one ...\n",
      "Proxy is slow trying another one ...\n",
      "Proxy is slow trying another one ...\n",
      "Proxy is slow trying another one ...\n",
      "Proxy is slow trying another one ...\n",
      "Proxy is slow trying another one ...\n",
      "Proxy is slow trying another one ...\n",
      "Proxy is slow trying another one ...\n",
      "Proxy is slow trying another one ...\n",
      "Proxy is slow trying another one ...\n",
      "worked\n",
      "https://www.sec.gov/Archives/edgar/data/51143/000110465918071763/0001104659-18-071763-index.htm\n",
      "Pages downloaded: 6\n",
      "Proxy is slow trying another one ...\n",
      "Proxy is slow trying another one ...\n",
      "Proxy is slow trying another one ...\n",
      "Proxy is slow trying another one ...\n",
      "worked\n",
      "https://www.sec.gov/Archives/edgar/data/51143/000110465918071763/a18-41255_18k.htm\n",
      "Pages downloaded: 7\n",
      "Proxy is slow trying another one ...\n",
      "Proxy is slow trying another one ...\n",
      "Proxy is slow trying another one ...\n",
      "Proxy is slow trying another one ...\n",
      "Proxy is slow trying another one ...\n",
      "Proxy is slow trying another one ...\n",
      "Proxy is slow trying another one ...\n",
      "Proxy is slow trying another one ...\n",
      "Proxy is slow trying another one ...\n",
      "Proxy is slow trying another one ...\n",
      "Proxy is slow trying another one ...\n",
      "Proxy is slow trying another one ...\n",
      "worked\n",
      "https://www.sec.gov/Archives/edgar/data/51143/000110465918071763/a18-41255_1ex99d1.htm\n",
      "Pages downloaded: 8\n",
      "Proxy is slow trying another one ...\n",
      "Proxy is slow trying another one ...\n",
      "Proxy is slow trying another one ...\n",
      "Proxy is slow trying another one ...\n",
      "Proxy is slow trying another one ...\n",
      "Proxy is slow trying another one ...\n",
      "Proxy is slow trying another one ...\n",
      "Proxy is slow trying another one ...\n",
      "Proxy is slow trying another one ...\n",
      "Proxy is slow trying another one ...\n",
      "Proxy is slow trying another one ...\n",
      "Proxy is slow trying another one ...\n",
      "Proxy is slow trying another one ...\n",
      "Proxy is slow trying another one ...\n",
      "worked\n",
      "https://www.sec.gov/Archives/edgar/data/51143/000110465918071763/a18-41255_1ex99d2.htm\n",
      "Pages downloaded: 9\n",
      "Proxy is slow trying another one ...\n",
      "Proxy is slow trying another one ...\n",
      "Proxy is slow trying another one ...\n",
      "Proxy is slow trying another one ...\n",
      "worked\n",
      "https://www.sec.gov/Archives/edgar/data/51143/000110465918071763/0001104659-18-071763.txt\n",
      "Pages downloaded: 10\n",
      "Proxy is slow trying another one ...\n",
      "Proxy is slow trying another one ...\n",
      "Proxy is slow trying another one ...\n",
      "Proxy is slow trying another one ...\n",
      "worked\n",
      "https://www.sec.gov/Archives/edgar/data/51143/000110465918064673/0001104659-18-064673-index.htm\n",
      "Pages downloaded: 11\n",
      "Proxy is slow trying another one ...\n",
      "Proxy is slow trying another one ...\n",
      "Proxy is slow trying another one ...\n",
      "Proxy is slow trying another one ...\n",
      "Proxy is slow trying another one ...\n",
      "Proxy is slow trying another one ...\n",
      "Proxy is slow trying another one ...\n",
      "Proxy is slow trying another one ...\n",
      "Proxy is slow trying another one ...\n",
      "Proxy is slow trying another one ...\n",
      "Proxy is slow trying another one ...\n",
      "Proxy is slow trying another one ...\n",
      "Proxy is slow trying another one ...\n",
      "worked\n",
      "https://www.sec.gov/Archives/edgar/data/51143/000110465918064673/a18-19046_110q.htm\n",
      "Pages downloaded: 12\n",
      "Proxy is slow trying another one ...\n",
      "Proxy is slow trying another one ...\n",
      "Proxy is slow trying another one ...\n",
      "Proxy is slow trying another one ...\n",
      "Proxy is slow trying another one ...\n",
      "Proxy is slow trying another one ...\n",
      "worked\n",
      "https://www.sec.gov/Archives/edgar/data/51143/000110465918064673/a18-19046_1ex10d1.htm\n",
      "Pages downloaded: 13\n",
      "worked\n",
      "https://www.sec.gov/Archives/edgar/data/51143/000110465918064673/a18-19046_1ex10d2.htm\n",
      "Pages downloaded: 14\n",
      "Proxy is slow trying another one ...\n",
      "Proxy is slow trying another one ...\n",
      "Proxy is slow trying another one ...\n",
      "worked\n",
      "https://www.sec.gov/Archives/edgar/data/51143/000110465918064673/a18-19046_1ex12.htm\n",
      "Pages downloaded: 15\n",
      "Proxy is slow trying another one ...\n",
      "Proxy is slow trying another one ...\n",
      "Proxy is slow trying another one ...\n",
      "Proxy is slow trying another one ...\n",
      "worked\n",
      "https://www.sec.gov/Archives/edgar/data/51143/000110465918064673/a18-19046_1ex31d1.htm\n",
      "Pages downloaded: 16\n",
      "Proxy is slow trying another one ...\n",
      "worked\n",
      "https://www.sec.gov/Archives/edgar/data/51143/000110465918064673/a18-19046_1ex31d2.htm\n",
      "Pages downloaded: 17\n",
      "Proxy is slow trying another one ...\n",
      "Proxy is slow trying another one ...\n",
      "worked\n",
      "https://www.sec.gov/Archives/edgar/data/51143/000110465918064673/a18-19046_1ex32d1.htm\n",
      "Pages downloaded: 18\n",
      "Proxy is slow trying another one ...\n",
      "Proxy is slow trying another one ...\n",
      "Proxy is slow trying another one ...\n",
      "Proxy is slow trying another one ...\n",
      "Proxy is slow trying another one ...\n",
      "Proxy is slow trying another one ...\n",
      "Proxy is slow trying another one ...\n",
      "Proxy is slow trying another one ...\n",
      "Proxy is slow trying another one ...\n",
      "Proxy is slow trying another one ...\n",
      "Proxy is slow trying another one ...\n",
      "Proxy is slow trying another one ...\n",
      "Proxy is slow trying another one ...\n",
      "Proxy is slow trying another one ...\n",
      "Proxy is slow trying another one ...\n",
      "Proxy is slow trying another one ...\n",
      "Proxy is slow trying another one ...\n",
      "Proxy is slow trying another one ...\n",
      "Proxy is slow trying another one ...\n",
      "Proxy is slow trying another one ...\n",
      "Proxy is slow trying another one ...\n",
      "Proxy is slow trying another one ...\n",
      "Proxy is slow trying another one ...\n",
      "Proxy is slow trying another one ...\n",
      "Proxy is slow trying another one ...\n",
      "Proxy is slow trying another one ...\n",
      "Proxy is slow trying another one ...\n",
      "Proxy is slow trying another one ...\n",
      "Proxy is slow trying another one ...\n",
      "Proxy is slow trying another one ...\n",
      "Proxy is slow trying another one ...\n",
      "Proxy is slow trying another one ...\n",
      "Proxy is slow trying another one ...\n",
      "Proxy is slow trying another one ...\n",
      "Proxy is slow trying another one ...\n",
      "Proxy is slow trying another one ...\n",
      "Proxy is slow trying another one ...\n",
      "Proxy is slow trying another one ...\n",
      "Proxy is slow trying another one ...\n",
      "Proxy is slow trying another one ...\n",
      "Proxy is slow trying another one ...\n",
      "Proxy is slow trying another one ...\n",
      "Proxy is slow trying another one ...\n",
      "Proxy is slow trying another one ...\n",
      "Proxy is slow trying another one ...\n",
      "Proxy is slow trying another one ...\n",
      "Proxy is slow trying another one ...\n",
      "Proxy is slow trying another one ...\n",
      "Proxy is slow trying another one ...\n",
      "link couldnot be downloaded with all proxies\n",
      "https://www.sec.gov/Archives/edgar/data/51143/000110465918064673/a18-19046_1ex32d2.htm\n",
      "Pages downloaded: 19\n",
      "Proxy is slow trying another one ...\n",
      "Proxy is slow trying another one ...\n",
      "Proxy is slow trying another one ...\n",
      "Proxy is slow trying another one ...\n",
      "Proxy is slow trying another one ...\n",
      "Proxy is slow trying another one ...\n",
      "Proxy is slow trying another one ...\n",
      "Proxy is slow trying another one ...\n",
      "Proxy is slow trying another one ...\n",
      "Proxy is slow trying another one ...\n",
      "worked\n",
      "https://www.sec.gov/Archives/edgar/data/51143/000110465918064673/g190461ksi001.gif\n",
      "Pages downloaded: 20\n",
      "Proxy is slow trying another one ...\n",
      "Proxy is slow trying another one ...\n",
      "Proxy is slow trying another one ...\n",
      "Proxy is slow trying another one ...\n",
      "worked\n",
      "https://www.sec.gov/Archives/edgar/data/51143/000110465918064673/0001104659-18-064673.txt\n",
      "Pages downloaded: 21\n",
      "Proxy is slow trying another one ...\n",
      "Proxy is slow trying another one ...\n",
      "Proxy is slow trying another one ...\n",
      "Proxy is slow trying another one ...\n",
      "Proxy is slow trying another one ...\n",
      "Proxy is slow trying another one ...\n",
      "Proxy is slow trying another one ...\n",
      "Proxy is slow trying another one ...\n",
      "worked\n",
      "https://www.sec.gov/Archives/edgar/data/51143/000110465918064673/ibm-20180930.xml\n",
      "Pages downloaded: 22\n",
      "Proxy is slow trying another one ...\n",
      "Proxy is slow trying another one ...\n",
      "Proxy is slow trying another one ...\n",
      "Proxy is slow trying another one ...\n",
      "Proxy is slow trying another one ...\n",
      "Proxy is slow trying another one ...\n",
      "Proxy is slow trying another one ...\n",
      "Proxy is slow trying another one ...\n",
      "Proxy is slow trying another one ...\n",
      "Proxy is slow trying another one ...\n",
      "Proxy is slow trying another one ...\n",
      "Proxy is slow trying another one ...\n",
      "Proxy is slow trying another one ...\n",
      "Proxy is slow trying another one ...\n",
      "Proxy is slow trying another one ...\n",
      "Proxy is slow trying another one ...\n",
      "Proxy is slow trying another one ...\n",
      "Proxy is slow trying another one ...\n",
      "Proxy is slow trying another one ...\n",
      "Proxy is slow trying another one ...\n",
      "Proxy is slow trying another one ...\n",
      "Proxy is slow trying another one ...\n",
      "Proxy is slow trying another one ...\n",
      "Proxy is slow trying another one ...\n",
      "Proxy is slow trying another one ...\n",
      "Proxy is slow trying another one ...\n",
      "Proxy is slow trying another one ...\n",
      "Proxy is slow trying another one ...\n",
      "Proxy is slow trying another one ...\n",
      "Proxy is slow trying another one ...\n",
      "Proxy is slow trying another one ...\n",
      "Proxy is slow trying another one ...\n"
     ]
    }
   ],
   "source": [
    "x = website_a_scrap('IBM')"
   ]
  },
  {
   "cell_type": "code",
   "execution_count": 6,
   "metadata": {
    "collapsed": false
   },
   "outputs": [
    {
     "name": "stdout",
     "output_type": "stream",
     "text": [
      "<RequestsCookieJar[]>\n"
     ]
    }
   ],
   "source": [
    "import requests\n",
    "url = 'http://httpbin.org/cookies/set/requests-is/awesome'\n",
    "r = requests.get(url)\n",
    "\n",
    "print(r.cookies)"
   ]
  },
  {
   "cell_type": "code",
   "execution_count": 20,
   "metadata": {
    "collapsed": false
   },
   "outputs": [],
   "source": [
    "import requests\n",
    "from lxml.html import fromstring\n",
    "import json\n",
    "def get_proxies():\n",
    "    url = 'https://free-proxy-list.net/'\n",
    "    response = requests.get(url)\n",
    "    parser = fromstring(response.text)\n",
    "    proxies = set()\n",
    "    for i in parser.xpath('//tbody/tr')[:50]:\n",
    "        if i.xpath('.//td[7][contains(text(),\"yes\")]'):\n",
    "            #Grabbing IP and corresponding PORT\n",
    "            proxy = \":\".join([i.xpath('.//td[1]/text()')[0], i.xpath('.//td[2]/text()')[0]])\n",
    "            proxies.add(proxy)\n",
    "    return proxies\n",
    "\n",
    "g = get_proxies()\n",
    "with open('proxies.json', 'w') as outfile:\n",
    "    json.dump(list(g), outfile)"
   ]
  },
  {
   "cell_type": "code",
   "execution_count": 18,
   "metadata": {
    "collapsed": false
   },
   "outputs": [
    {
     "data": {
      "text/plain": [
       "['91.216.61.40:46613',\n",
       " '103.109.75.189:42828',\n",
       " '103.205.26.57:60817',\n",
       " '177.184.82.130:50951',\n",
       " '95.38.209.4:50967',\n",
       " '206.189.148.118:8000',\n",
       " '92.255.200.251:36882',\n",
       " '195.117.55.135:60845',\n",
       " '176.36.89.203:53325',\n",
       " '170.0.112.230:50359',\n",
       " '103.115.180.157:61998',\n",
       " '1.179.157.114:3128',\n",
       " '150.95.151.68:8197',\n",
       " '103.199.157.133:40052',\n",
       " '149.28.130.10:8080',\n",
       " '138.68.167.168:3128',\n",
       " '46.198.141.82:31870',\n",
       " '131.196.192.31:55115',\n",
       " '125.26.99.250:53229',\n",
       " '138.0.89.206:34136',\n",
       " '103.106.34.65:56437',\n",
       " '95.47.116.128:60816',\n",
       " '118.174.220.101:36040',\n",
       " '186.233.176.26:53947',\n",
       " '36.89.106.247:50641',\n",
       " '58.65.128.202:49079',\n",
       " '77.87.100.90:49101',\n",
       " '103.212.92.193:44658',\n",
       " '190.107.20.206:56089',\n",
       " '91.224.97.61:61499']"
      ]
     },
     "execution_count": 18,
     "metadata": {},
     "output_type": "execute_result"
    }
   ],
   "source": []
  },
  {
   "cell_type": "code",
   "execution_count": 11,
   "metadata": {
    "collapsed": false
   },
   "outputs": [
    {
     "data": {
      "text/plain": [
       "[42343553,\n",
       " 383151923,\n",
       " 9941810,\n",
       " 540123466,\n",
       " 91616825,\n",
       " 130647724,\n",
       " 98602210,\n",
       " 123525391,\n",
       " 95584331,\n",
       " 161168738,\n",
       " 123671750,\n",
       " 273924158,\n",
       " 457750906,\n",
       " 1008573022,\n",
       " 143281401,\n",
       " 47830245,\n",
       " 70768146,\n",
       " 89989801,\n",
       " 10564029,\n",
       " 3407905355,\n",
       " 66456742,\n",
       " 49285942,\n",
       " 12889885,\n",
       " 109608209,\n",
       " 18197627,\n",
       " 4771524,\n",
       " 3171977906,\n",
       " 80202031,\n",
       " 16625065,\n",
       " 83857443,\n",
       " 167713075,\n",
       " 245123544,\n",
       " 104176849,\n",
       " 17329587,\n",
       " 11738753,\n",
       " 103512025,\n",
       " 117314104,\n",
       " 6559480,\n",
       " 74330170,\n",
       " 75858506,\n",
       " 84386303,\n",
       " 77085109,\n",
       " 10684996,\n",
       " 2563649814,\n",
       " 1231244906,\n",
       " 117377403,\n",
       " 88263629,\n",
       " 120380991,\n",
       " 87096074,\n",
       " 81801504,\n",
       " 1214472465,\n",
       " 11005849,\n",
       " 86785144,\n",
       " 113833141,\n",
       " 99739029,\n",
       " 145677003,\n",
       " 87920709,\n",
       " 124461374,\n",
       " 93052391,\n",
       " 81646387,\n",
       " 83891214,\n",
       " 97677948,\n",
       " 101479434]"
      ]
     },
     "execution_count": 11,
     "metadata": {},
     "output_type": "execute_result"
    }
   ],
   "source": [
    "x.signature"
   ]
  },
  {
   "cell_type": "code",
   "execution_count": 5,
   "metadata": {
    "collapsed": false
   },
   "outputs": [
    {
     "data": {
      "text/plain": [
       "['IBM',\n",
       " 'index.html',\n",
       " 'about.shtml',\n",
       " 'Article/whatwedo.html',\n",
       " 'Article/about-commissioners.html',\n",
       " 'answers/about-lawsshtml.html',\n",
       " 'divisions.shtml',\n",
       " 'divisions/corpfin.shtml',\n",
       " 'divisions/enforce.shtml',\n",
       " 'divisions/riskfin.shtml',\n",
       " 'divisions/marketreg.shtml',\n",
       " 'about/offices/ocie.shtml',\n",
       " 'litigation/litreleases.shtml',\n",
       " 'litigation/admin.shtml',\n",
       " 'litigation/opinions.shtml',\n",
       " 'divisions/enforce/friactions.shtml',\n",
       " 'litigation/suspensions.shtml',\n",
       " 'news/newsroom/howinvestigationswork.html',\n",
       " 'rules.shtml',\n",
       " 'rules/rulemaking-index.shtml',\n",
       " 'rules/proposed.shtml',\n",
       " 'rules/final.shtml',\n",
       " 'rules/interim-final-temp.shtml',\n",
       " 'rules/other.shtml',\n",
       " 'rules/sro.shtml',\n",
       " 'interps.shtml',\n",
       " 'answers.shtml',\n",
       " 'complaint/select.shtml',\n",
       " 'investor/pubs.shtml',\n",
       " 'edgar.shtml',\n",
       " 'edgar/searchedgar/companysearch.html',\n",
       " 'oiea/Article/edgarguide.html',\n",
       " 'fast-answers/answerspublicdocshtm.html',\n",
       " 'news/whatsnew/wn-today.shtml',\n",
       " 'about/sec-docket.shtml',\n",
       " 'contact.shtml',\n",
       " 'reportspubs/investor-publications/investor-brokershtm.html',\n",
       " 'news/webcasts.shtml',\n",
       " 'fast-answers/answersadvancefeefraudhtm.html',\n",
       " 'fast-answers/answersetfhtm.html',\n",
       " 'fast-answers/answers-form10khtm.html',\n",
       " 'fast-answers/answersvarannhtm.html',\n",
       " 'litigation/apdocuments.shtml',\n",
       " 'rules/proposed.shtml#34-83063',\n",
       " 'help/foiadocsinvafoiahtm.html',\n",
       " 'help/foiadocsbdfoiahtm.html',\n",
       " 'news/socialmedia.shtml',\n",
       " 'about/secrss.shtml',\n",
       " 'sitemap.shtml',\n",
       " 'about/commission-votes.shtml',\n",
       " 'plainwriting.shtml',\n",
       " 'about/whatwedo.shtml',\n",
       " 'about/commissioner.shtml',\n",
       " 'about/laws.shtml',\n",
       " 'about/secreports.shtml',\n",
       " 'litigation.shtml',\n",
       " 'alj.shtml',\n",
       " 'info/edgar.shtml',\n",
       " 'spotlight.shtml',\n",
       " 'about/offices/inspector_general.shtml',\n",
       " 'about/secafr2014.shtml',\n",
       " 'jobs.shtml',\n",
       " 'foia.shtml',\n",
       " 'eeoinfo.shtml',\n",
       " 'links.shtml',\n",
       " 'investor.shtml',\n",
       " 'oacq/Article/mediakit.html',\n",
       " 'news/studies.shtml']"
      ]
     },
     "execution_count": 5,
     "metadata": {},
     "output_type": "execute_result"
    }
   ],
   "source": [
    "x.urls"
   ]
  },
  {
   "cell_type": "code",
   "execution_count": 8,
   "metadata": {
    "collapsed": false
   },
   "outputs": [
    {
     "ename": "AttributeError",
     "evalue": "'website_a_scrap' object has no attribute 'txt'",
     "output_type": "error",
     "traceback": [
      "\u001b[0;31m---------------------------------------------------------------------------\u001b[0m",
      "\u001b[0;31mAttributeError\u001b[0m                            Traceback (most recent call last)",
      "\u001b[0;32m<ipython-input-8-5e00db2e9824>\u001b[0m in \u001b[0;36m<module>\u001b[0;34m()\u001b[0m\n\u001b[0;32m----> 1\u001b[0;31m \u001b[0mx\u001b[0m\u001b[0;34m.\u001b[0m\u001b[0mtxt\u001b[0m\u001b[0;34m\u001b[0m\u001b[0m\n\u001b[0m",
      "\u001b[0;31mAttributeError\u001b[0m: 'website_a_scrap' object has no attribute 'txt'"
     ]
    }
   ],
   "source": []
  },
  {
   "cell_type": "code",
   "execution_count": 7,
   "metadata": {
    "collapsed": false
   },
   "outputs": [
    {
     "data": {
      "text/plain": [
       "[]"
      ]
     },
     "execution_count": 7,
     "metadata": {},
     "output_type": "execute_result"
    }
   ],
   "source": [
    "x.temp"
   ]
  },
  {
   "cell_type": "code",
   "execution_count": 12,
   "metadata": {
    "collapsed": false
   },
   "outputs": [],
   "source": [
    "href = 'index'"
   ]
  },
  {
   "cell_type": "code",
   "execution_count": 13,
   "metadata": {
    "collapsed": false
   },
   "outputs": [
    {
     "data": {
      "text/plain": [
       "'index'"
      ]
     },
     "execution_count": 13,
     "metadata": {},
     "output_type": "execute_result"
    }
   ],
   "source": [
    "os.path.basename(href)"
   ]
  },
  {
   "cell_type": "code",
   "execution_count": null,
   "metadata": {
    "collapsed": true
   },
   "outputs": [],
   "source": []
  },
  {
   "cell_type": "code",
   "execution_count": null,
   "metadata": {
    "collapsed": true
   },
   "outputs": [],
   "source": []
  },
  {
   "cell_type": "code",
   "execution_count": null,
   "metadata": {
    "collapsed": true
   },
   "outputs": [],
   "source": []
  },
  {
   "cell_type": "code",
   "execution_count": null,
   "metadata": {
    "collapsed": true
   },
   "outputs": [],
   "source": []
  },
  {
   "cell_type": "code",
   "execution_count": null,
   "metadata": {
    "collapsed": true
   },
   "outputs": [],
   "source": []
  },
  {
   "cell_type": "code",
   "execution_count": 8,
   "metadata": {
    "collapsed": false
   },
   "outputs": [],
   "source": [
    "\n",
    "filename = 'pages/edgar/searchedgar/companysearch.html'\n",
    "if not os.path.exists(os.path.dirname(filename)):\n",
    "    try:\n",
    "        os.makedirs(os.path.dirname(filename))\n",
    "    except OSError as exc: # Guard against race condition\n",
    "        if exc.errno != errno.EEXIST:\n",
    "            raise\n",
    "\n",
    "with open(filename, \"w\") as f:\n",
    "    f.write(\"FOOBAR\")"
   ]
  },
  {
   "cell_type": "code",
   "execution_count": null,
   "metadata": {
    "collapsed": true
   },
   "outputs": [],
   "source": []
  },
  {
   "cell_type": "code",
   "execution_count": 4,
   "metadata": {
    "collapsed": false
   },
   "outputs": [
    {
     "ename": "NameError",
     "evalue": "name 'x' is not defined",
     "output_type": "error",
     "traceback": [
      "\u001b[0;31m---------------------------------------------------------------------------\u001b[0m",
      "\u001b[0;31mNameError\u001b[0m                                 Traceback (most recent call last)",
      "\u001b[0;32m<ipython-input-4-aeb6784820df>\u001b[0m in \u001b[0;36m<module>\u001b[0;34m()\u001b[0m\n\u001b[0;32m----> 1\u001b[0;31m \u001b[0mhtml\u001b[0m \u001b[0;34m=\u001b[0m \u001b[0mx\u001b[0m\u001b[0;34m.\u001b[0m\u001b[0mtemp\u001b[0m\u001b[0;34m\u001b[0m\u001b[0m\n\u001b[0m\u001b[1;32m      2\u001b[0m \u001b[0mall_links_in_html\u001b[0m \u001b[0;34m=\u001b[0m \u001b[0;34m[\u001b[0m\u001b[0;34m]\u001b[0m\u001b[0;34m\u001b[0m\u001b[0m\n\u001b[1;32m      3\u001b[0m \u001b[0msoup\u001b[0m \u001b[0;34m=\u001b[0m \u001b[0mBeautifulSoup\u001b[0m\u001b[0;34m(\u001b[0m\u001b[0mhtml\u001b[0m\u001b[0;34m)\u001b[0m\u001b[0;34m\u001b[0m\u001b[0m\n\u001b[1;32m      4\u001b[0m \u001b[0;32mfor\u001b[0m \u001b[0mlink\u001b[0m \u001b[0;32min\u001b[0m \u001b[0msoup\u001b[0m\u001b[0;34m.\u001b[0m\u001b[0mfindAll\u001b[0m\u001b[0;34m(\u001b[0m\u001b[0;34m'a'\u001b[0m\u001b[0;34m)\u001b[0m\u001b[0;34m:\u001b[0m\u001b[0;34m\u001b[0m\u001b[0m\n\u001b[1;32m      5\u001b[0m     \u001b[0mhref\u001b[0m \u001b[0;34m=\u001b[0m \u001b[0mlink\u001b[0m\u001b[0;34m.\u001b[0m\u001b[0mget\u001b[0m\u001b[0;34m(\u001b[0m\u001b[0;34m'href'\u001b[0m\u001b[0;34m)\u001b[0m\u001b[0;34m\u001b[0m\u001b[0m\n",
      "\u001b[0;31mNameError\u001b[0m: name 'x' is not defined"
     ]
    }
   ],
   "source": [
    "html = x.temp\n",
    "all_links_in_html = []\n",
    "soup = BeautifulSoup(html)\n",
    "for link in soup.findAll('a'):\n",
    "    href = link.get('href')\n",
    "    if href.startswith('/'):\n",
    "        all_links_in_html.append(href)\n",
    "all_links_in_html"
   ]
  },
  {
   "cell_type": "code",
   "execution_count": 28,
   "metadata": {
    "collapsed": false
   },
   "outputs": [],
   "source": [
    "t = all_links_in_html[1]"
   ]
  },
  {
   "cell_type": "code",
   "execution_count": 29,
   "metadata": {
    "collapsed": false
   },
   "outputs": [
    {
     "data": {
      "text/plain": [
       "True"
      ]
     },
     "execution_count": 29,
     "metadata": {},
     "output_type": "execute_result"
    }
   ],
   "source": [
    "t.startswith('/')"
   ]
  },
  {
   "cell_type": "code",
   "execution_count": 3,
   "metadata": {
    "collapsed": false
   },
   "outputs": [],
   "source": [
    "import json\n",
    "with open('proxies.json', 'r') as f:\n",
    "    proxies = json.load(f)"
   ]
  },
  {
   "cell_type": "code",
   "execution_count": 6,
   "metadata": {
    "collapsed": false
   },
   "outputs": [],
   "source": [
    "from itertools import cycle\n",
    "import traceback\n",
    "proxy_pool = cycle(proxies)"
   ]
  },
  {
   "cell_type": "code",
   "execution_count": 7,
   "metadata": {
    "collapsed": false
   },
   "outputs": [
    {
     "data": {
      "text/plain": [
       "<itertools.cycle at 0x7fbc68062948>"
      ]
     },
     "execution_count": 7,
     "metadata": {},
     "output_type": "execute_result"
    }
   ],
   "source": [
    "proxy_pool"
   ]
  },
  {
   "cell_type": "code",
   "execution_count": 11,
   "metadata": {
    "collapsed": true
   },
   "outputs": [],
   "source": [
    "proxy = next(proxy_pool)"
   ]
  },
  {
   "cell_type": "code",
   "execution_count": 12,
   "metadata": {
    "collapsed": false
   },
   "outputs": [
    {
     "data": {
      "text/plain": [
       "'103.109.75.189:42828'"
      ]
     },
     "execution_count": 12,
     "metadata": {},
     "output_type": "execute_result"
    }
   ],
   "source": [
    "proxy"
   ]
  },
  {
   "cell_type": "code",
   "execution_count": 10,
   "metadata": {
    "collapsed": false
   },
   "outputs": [
    {
     "data": {
      "text/plain": [
       "['91.216.61.40:46613',\n",
       " '103.109.75.189:42828',\n",
       " '103.205.26.57:60817',\n",
       " '177.184.82.130:50951',\n",
       " '95.38.209.4:50967',\n",
       " '206.189.148.118:8000',\n",
       " '92.255.200.251:36882',\n",
       " '195.117.55.135:60845',\n",
       " '176.36.89.203:53325',\n",
       " '170.0.112.230:50359',\n",
       " '103.115.180.157:61998',\n",
       " '1.179.157.114:3128',\n",
       " '150.95.151.68:8197',\n",
       " '103.199.157.133:40052',\n",
       " '149.28.130.10:8080',\n",
       " '138.68.167.168:3128',\n",
       " '46.198.141.82:31870',\n",
       " '131.196.192.31:55115',\n",
       " '125.26.99.250:53229',\n",
       " '138.0.89.206:34136',\n",
       " '103.106.34.65:56437',\n",
       " '95.47.116.128:60816',\n",
       " '118.174.220.101:36040',\n",
       " '186.233.176.26:53947',\n",
       " '36.89.106.247:50641',\n",
       " '58.65.128.202:49079',\n",
       " '77.87.100.90:49101',\n",
       " '103.212.92.193:44658',\n",
       " '190.107.20.206:56089',\n",
       " '91.224.97.61:61499']"
      ]
     },
     "execution_count": 10,
     "metadata": {},
     "output_type": "execute_result"
    }
   ],
   "source": [
    "proxies"
   ]
  },
  {
   "cell_type": "code",
   "execution_count": 19,
   "metadata": {
    "collapsed": false
   },
   "outputs": [
    {
     "data": {
      "text/plain": [
       "{'a': 10, 'b': 0}"
      ]
     },
     "execution_count": 19,
     "metadata": {},
     "output_type": "execute_result"
    }
   ],
   "source": [
    "l = ['a','b']\n",
    "header_log = dict(zip(l,[0]* len(l)))\n",
    "header_log['a'] += 5\n",
    "header_log['a'] +=5\n",
    "header_log"
   ]
  },
  {
   "cell_type": "code",
   "execution_count": 9,
   "metadata": {
    "collapsed": false
   },
   "outputs": [
    {
     "data": {
      "text/plain": [
       "[0, 0, 0, 0]"
      ]
     },
     "execution_count": 9,
     "metadata": {},
     "output_type": "execute_result"
    }
   ],
   "source": [
    "[0] * 4"
   ]
  },
  {
   "cell_type": "code",
   "execution_count": 35,
   "metadata": {
    "collapsed": false
   },
   "outputs": [
    {
     "name": "stdout",
     "output_type": "stream",
     "text": [
      "False\n",
      "False\n",
      "False\n",
      "True\n",
      "False\n",
      "False\n",
      "False\n",
      "False\n",
      "True\n",
      "False\n",
      "False\n"
     ]
    }
   ],
   "source": [
    "import random\n",
    "print(random.choice(range(0,5)) == 4)\n",
    "print(random.choice(range(0,5)) == 4)\n",
    "print(random.choice(range(0,5)) == 4)\n",
    "print(random.choice(range(0,5)) == 4)\n",
    "print(random.choice(range(0,5)) == 4)\n",
    "print(random.choice(range(0,5)) == 4)\n",
    "print(random.choice(range(0,5)) == 4)\n",
    "print(random.choice(range(0,5)) == 4)\n",
    "print(random.choice(range(0,5)) == 4)\n",
    "print(random.choice(range(0,5)) == 4)\n",
    "print(random.choice(range(0,5)) == 4)\n"
   ]
  },
  {
   "cell_type": "code",
   "execution_count": 7,
   "metadata": {
    "collapsed": false
   },
   "outputs": [
    {
     "name": "stdout",
     "output_type": "stream",
     "text": [
      "{'141.105.110.22:35175', '187.122.167.145:51805', '187.243.251.110:30737', '75.151.213.85:8080', '14.102.105.187:44460', '91.237.234.148:41000', '1.2.169.84:44406', '45.230.176.166:54791', '185.85.219.74:61068', '190.146.60.147:53467', '1.10.186.229:54865', '43.239.73.30:8080', '1.20.101.4:46179', '103.102.72.240:42856', '190.61.42.61:80', '212.57.109.227:41884', '193.232.234.175:30800', '36.66.203.245:51988', '109.72.103.40:39462', '45.6.100.250:39457', '129.205.157.73:31778', '176.196.254.206:39023', '202.166.196.75:39796', '124.41.240.191:44226', '194.79.60.240:33266', '62.122.201.246:39188', '5.128.32.12:51959', '1.20.97.253:47937', '142.93.92.215:3128', '41.242.142.236:23500', '31.134.123.204:53281', '41.59.209.36:48457', '202.21.114.210:39286', '213.74.123.83:41496', '36.66.126.77:42302', '212.43.123.18:41258', '103.43.0.50:35481', '131.117.214.25:59468', '118.174.220.218:41979', '101.255.124.202:46553', '195.138.78.255:57918', '188.73.8.12:42938', '31.31.162.37:43706', '110.39.52.10:45924', '190.11.28.30:56278', '46.151.156.138:49699', '200.107.59.110:53865', '185.62.174.163:53539', '202.91.89.107:52492', '1.20.102.54:48638', '138.0.89.164:38908', '185.2.227.146:37101', '36.66.95.133:39399', '190.57.188.18:49715', '36.83.70.48:8888', '118.175.93.92:55582', '190.124.29.45:36371', '110.34.3.144:32352', '188.18.7.171:53323', '95.156.95.158:59310', '60.224.118.119:40388', '89.188.111.101:41258', '36.66.108.53:43848', '37.200.121.179:51464', '113.190.253.230:53619', '201.148.167.246:57358', '117.255.222.122:53281', '177.73.160.18:35024', '195.146.133.144:60761', '36.89.51.133:56048', '187.111.192.50:42784', '120.50.19.46:35445', '78.156.243.146:59730', '41.65.160.122:44467', '110.44.124.20:8080', '188.18.54.242:47911', '125.27.251.232:42639', '138.204.233.141:59813', '36.67.233.25:57540', '202.158.12.135:58448', '181.129.50.138:55807', '181.123.6.146:58547', '80.78.76.81:41077', '139.5.71.124:23500', '18.222.182.77:3128', '212.66.117.168:41258', '119.235.53.135:45367', '78.8.188.250:32040', '1.20.99.143:55018', '140.227.207.36:3128', '200.6.141.130:47201', '46.227.152.52:42019', '119.82.253.175:31500', '41.169.153.226:53281', '103.48.207.70:8080', '1.10.184.166:57330', '178.218.44.221:50916', '220.135.132.82:61002', '1.10.189.119:41712', '81.16.246.44:41638', '197.149.125.50:45224', '91.190.85.97:34286', '157.65.171.64:8080', '119.82.253.66:38715', '201.184.132.218:34135', '36.67.63.29:59074', '31.186.53.149:32231', '187.17.62.218:53281', '189.1.16.162:23500', '119.82.253.198:45814', '105.27.202.26:48616', '1.20.101.99:47420', '80.90.88.147:60700', '213.21.53.132:58960', '190.11.21.198:53281', '190.147.137.66:50536', '64.192.234.98:53281', '54.39.176.30:3128', '110.74.196.9:41568', '1.20.99.45:44364', '204.42.255.7:3128', '177.105.226.185:54460', '84.42.202.253:53281'}\n"
     ]
    }
   ],
   "source": [
    "import requests\n",
    "from lxml.html import fromstring\n",
    "import json\n",
    "def get_proxies():\n",
    "    url = 'https://free-proxy-list.net/'\n",
    "    response = requests.get(url)\n",
    "    parser = fromstring(response.text)\n",
    "    proxies = set()\n",
    "    for i in parser.xpath('//tbody/tr'):\n",
    "        if i.xpath('.//td[7][contains(text(),\"yes\")]'):\n",
    "            #Grabbing IP and corresponding PORT\n",
    "            proxy = \":\".join([i.xpath('.//td[1]/text()')[0], i.xpath('.//td[2]/text()')[0]])\n",
    "            proxies.add(proxy)\n",
    "    return proxies\n",
    "\n",
    "g = get_proxies()\n",
    "print(g)\n",
    "with open('proxies.json', 'w') as outfile:\n",
    "    json.dump(list(g), outfile)\n",
    "    "
   ]
  },
  {
   "cell_type": "code",
   "execution_count": null,
   "metadata": {
    "collapsed": true
   },
   "outputs": [],
   "source": []
  }
 ],
 "metadata": {
  "kernelspec": {
   "display_name": "pythonDa",
   "language": "python",
   "name": "pythonda"
  },
  "language_info": {
   "codemirror_mode": {
    "name": "ipython",
    "version": 3
   },
   "file_extension": ".py",
   "mimetype": "text/x-python",
   "name": "python",
   "nbconvert_exporter": "python",
   "pygments_lexer": "ipython3",
   "version": "3.5.3"
  }
 },
 "nbformat": 4,
 "nbformat_minor": 2
}
